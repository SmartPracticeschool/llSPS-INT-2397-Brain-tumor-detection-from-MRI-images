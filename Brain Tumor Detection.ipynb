{
 "cells": [
  {
   "cell_type": "code",
   "execution_count": 1,
   "metadata": {},
   "outputs": [
    {
     "name": "stderr",
     "output_type": "stream",
     "text": [
      "Using TensorFlow backend.\n",
      "C:\\Users\\hp\\anaconda3\\lib\\site-packages\\tensorflow\\python\\framework\\dtypes.py:516: FutureWarning: Passing (type, 1) or '1type' as a synonym of type is deprecated; in a future version of numpy, it will be understood as (type, (1,)) / '(1,)type'.\n",
      "  _np_qint8 = np.dtype([(\"qint8\", np.int8, 1)])\n",
      "C:\\Users\\hp\\anaconda3\\lib\\site-packages\\tensorflow\\python\\framework\\dtypes.py:517: FutureWarning: Passing (type, 1) or '1type' as a synonym of type is deprecated; in a future version of numpy, it will be understood as (type, (1,)) / '(1,)type'.\n",
      "  _np_quint8 = np.dtype([(\"quint8\", np.uint8, 1)])\n",
      "C:\\Users\\hp\\anaconda3\\lib\\site-packages\\tensorflow\\python\\framework\\dtypes.py:518: FutureWarning: Passing (type, 1) or '1type' as a synonym of type is deprecated; in a future version of numpy, it will be understood as (type, (1,)) / '(1,)type'.\n",
      "  _np_qint16 = np.dtype([(\"qint16\", np.int16, 1)])\n",
      "C:\\Users\\hp\\anaconda3\\lib\\site-packages\\tensorflow\\python\\framework\\dtypes.py:519: FutureWarning: Passing (type, 1) or '1type' as a synonym of type is deprecated; in a future version of numpy, it will be understood as (type, (1,)) / '(1,)type'.\n",
      "  _np_quint16 = np.dtype([(\"quint16\", np.uint16, 1)])\n",
      "C:\\Users\\hp\\anaconda3\\lib\\site-packages\\tensorflow\\python\\framework\\dtypes.py:520: FutureWarning: Passing (type, 1) or '1type' as a synonym of type is deprecated; in a future version of numpy, it will be understood as (type, (1,)) / '(1,)type'.\n",
      "  _np_qint32 = np.dtype([(\"qint32\", np.int32, 1)])\n",
      "C:\\Users\\hp\\anaconda3\\lib\\site-packages\\tensorflow\\python\\framework\\dtypes.py:525: FutureWarning: Passing (type, 1) or '1type' as a synonym of type is deprecated; in a future version of numpy, it will be understood as (type, (1,)) / '(1,)type'.\n",
      "  np_resource = np.dtype([(\"resource\", np.ubyte, 1)])\n",
      "C:\\Users\\hp\\anaconda3\\lib\\site-packages\\tensorboard\\compat\\tensorflow_stub\\dtypes.py:541: FutureWarning: Passing (type, 1) or '1type' as a synonym of type is deprecated; in a future version of numpy, it will be understood as (type, (1,)) / '(1,)type'.\n",
      "  _np_qint8 = np.dtype([(\"qint8\", np.int8, 1)])\n",
      "C:\\Users\\hp\\anaconda3\\lib\\site-packages\\tensorboard\\compat\\tensorflow_stub\\dtypes.py:542: FutureWarning: Passing (type, 1) or '1type' as a synonym of type is deprecated; in a future version of numpy, it will be understood as (type, (1,)) / '(1,)type'.\n",
      "  _np_quint8 = np.dtype([(\"quint8\", np.uint8, 1)])\n",
      "C:\\Users\\hp\\anaconda3\\lib\\site-packages\\tensorboard\\compat\\tensorflow_stub\\dtypes.py:543: FutureWarning: Passing (type, 1) or '1type' as a synonym of type is deprecated; in a future version of numpy, it will be understood as (type, (1,)) / '(1,)type'.\n",
      "  _np_qint16 = np.dtype([(\"qint16\", np.int16, 1)])\n",
      "C:\\Users\\hp\\anaconda3\\lib\\site-packages\\tensorboard\\compat\\tensorflow_stub\\dtypes.py:544: FutureWarning: Passing (type, 1) or '1type' as a synonym of type is deprecated; in a future version of numpy, it will be understood as (type, (1,)) / '(1,)type'.\n",
      "  _np_quint16 = np.dtype([(\"quint16\", np.uint16, 1)])\n",
      "C:\\Users\\hp\\anaconda3\\lib\\site-packages\\tensorboard\\compat\\tensorflow_stub\\dtypes.py:545: FutureWarning: Passing (type, 1) or '1type' as a synonym of type is deprecated; in a future version of numpy, it will be understood as (type, (1,)) / '(1,)type'.\n",
      "  _np_qint32 = np.dtype([(\"qint32\", np.int32, 1)])\n",
      "C:\\Users\\hp\\anaconda3\\lib\\site-packages\\tensorboard\\compat\\tensorflow_stub\\dtypes.py:550: FutureWarning: Passing (type, 1) or '1type' as a synonym of type is deprecated; in a future version of numpy, it will be understood as (type, (1,)) / '(1,)type'.\n",
      "  np_resource = np.dtype([(\"resource\", np.ubyte, 1)])\n"
     ]
    }
   ],
   "source": [
    "from keras.preprocessing.image import ImageDataGenerator\n",
    "train_datagen = ImageDataGenerator(rescale = 1./255,shear_range = 0.2,zoom_range =\n",
    "0.2,horizontal_flip = True)\n",
    "test_datagen = ImageDataGenerator(rescale = 1./255)"
   ]
  },
  {
   "cell_type": "code",
   "execution_count": 2,
   "metadata": {},
   "outputs": [
    {
     "name": "stdout",
     "output_type": "stream",
     "text": [
      "Found 2870 images belonging to 2 classes.\n",
      "Found 394 images belonging to 2 classes.\n"
     ]
    }
   ],
   "source": [
    "x_train = train_datagen.flow_from_directory(\n",
    "    r'.\\data\\Training',\n",
    "    target_size = (64,64),\n",
    "    batch_size = 32 ,\n",
    "    class_mode = 'binary')\n",
    "x_test = test_datagen.flow_from_directory(\n",
    "    r'.\\data\\Testing',\n",
    "    target_size = (64,64),\n",
    "    batch_size = 32 ,\n",
    "    class_mode = 'binary')"
   ]
  },
  {
   "cell_type": "code",
   "execution_count": 3,
   "metadata": {},
   "outputs": [
    {
     "name": "stdout",
     "output_type": "stream",
     "text": [
      "{'no_tumor': 0, 'yes': 1}\n"
     ]
    }
   ],
   "source": [
    "print(x_train.class_indices)"
   ]
  },
  {
   "cell_type": "code",
   "execution_count": 4,
   "metadata": {},
   "outputs": [],
   "source": [
    "from keras.models import Sequential\n",
    "from keras.layers import Dense\n",
    "from keras.layers import Convolution2D\n",
    "from keras.layers import MaxPooling2D\n",
    "from keras.layers import Flatten"
   ]
  },
  {
   "cell_type": "code",
   "execution_count": 5,
   "metadata": {},
   "outputs": [
    {
     "name": "stdout",
     "output_type": "stream",
     "text": [
      "{'no_tumor': 0, 'yes': 1}\n"
     ]
    }
   ],
   "source": [
    "print(x_train.class_indices)"
   ]
  },
  {
   "cell_type": "code",
   "execution_count": 6,
   "metadata": {},
   "outputs": [
    {
     "name": "stdout",
     "output_type": "stream",
     "text": [
      "WARNING:tensorflow:From C:\\Users\\hp\\anaconda3\\lib\\site-packages\\keras\\backend\\tensorflow_backend.py:74: The name tf.get_default_graph is deprecated. Please use tf.compat.v1.get_default_graph instead.\n",
      "\n"
     ]
    }
   ],
   "source": [
    "model = Sequential()"
   ]
  },
  {
   "cell_type": "code",
   "execution_count": 7,
   "metadata": {},
   "outputs": [
    {
     "name": "stdout",
     "output_type": "stream",
     "text": [
      "WARNING:tensorflow:From C:\\Users\\hp\\anaconda3\\lib\\site-packages\\keras\\backend\\tensorflow_backend.py:517: The name tf.placeholder is deprecated. Please use tf.compat.v1.placeholder instead.\n",
      "\n",
      "WARNING:tensorflow:From C:\\Users\\hp\\anaconda3\\lib\\site-packages\\keras\\backend\\tensorflow_backend.py:4138: The name tf.random_uniform is deprecated. Please use tf.random.uniform instead.\n",
      "\n"
     ]
    }
   ],
   "source": [
    "model.add(Convolution2D(32,(3,3), input_shape = (64,64,3),activation = \"relu\"))"
   ]
  },
  {
   "cell_type": "code",
   "execution_count": 8,
   "metadata": {},
   "outputs": [
    {
     "name": "stdout",
     "output_type": "stream",
     "text": [
      "WARNING:tensorflow:From C:\\Users\\hp\\anaconda3\\lib\\site-packages\\keras\\backend\\tensorflow_backend.py:3976: The name tf.nn.max_pool is deprecated. Please use tf.nn.max_pool2d instead.\n",
      "\n"
     ]
    }
   ],
   "source": [
    "model.add(MaxPooling2D(pool_size = (2,2)))"
   ]
  },
  {
   "cell_type": "code",
   "execution_count": 9,
   "metadata": {},
   "outputs": [],
   "source": [
    "model.add(Flatten()) # input layer of ann"
   ]
  },
  {
   "cell_type": "code",
   "execution_count": 10,
   "metadata": {},
   "outputs": [
    {
     "name": "stderr",
     "output_type": "stream",
     "text": [
      "C:\\Users\\hp\\anaconda3\\lib\\site-packages\\ipykernel_launcher.py:1: UserWarning: Update your `Dense` call to the Keras 2 API: `Dense(units=225, activation=\"relu\", kernel_initializer=\"random_uniform\")`\n",
      "  \"\"\"Entry point for launching an IPython kernel.\n"
     ]
    }
   ],
   "source": [
    "model.add(Dense(units = 225,init = \"random_uniform\",activation = \"relu\"))"
   ]
  },
  {
   "cell_type": "code",
   "execution_count": 11,
   "metadata": {},
   "outputs": [
    {
     "name": "stderr",
     "output_type": "stream",
     "text": [
      "C:\\Users\\hp\\anaconda3\\lib\\site-packages\\ipykernel_launcher.py:1: UserWarning: Update your `Dense` call to the Keras 2 API: `Dense(units=128, activation=\"relu\", kernel_initializer=\"random_uniform\")`\n",
      "  \"\"\"Entry point for launching an IPython kernel.\n"
     ]
    }
   ],
   "source": [
    "model.add(Dense(units = 128,init = \"random_uniform\",activation = \"relu\"))"
   ]
  },
  {
   "cell_type": "code",
   "execution_count": 12,
   "metadata": {},
   "outputs": [
    {
     "name": "stderr",
     "output_type": "stream",
     "text": [
      "C:\\Users\\hp\\anaconda3\\lib\\site-packages\\ipykernel_launcher.py:1: UserWarning: Update your `Dense` call to the Keras 2 API: `Dense(units=64, activation=\"relu\", kernel_initializer=\"random_uniform\")`\n",
      "  \"\"\"Entry point for launching an IPython kernel.\n"
     ]
    }
   ],
   "source": [
    "model.add(Dense(units = 64,init = \"random_uniform\",activation = \"relu\"))"
   ]
  },
  {
   "cell_type": "code",
   "execution_count": 13,
   "metadata": {},
   "outputs": [
    {
     "name": "stderr",
     "output_type": "stream",
     "text": [
      "C:\\Users\\hp\\anaconda3\\lib\\site-packages\\ipykernel_launcher.py:1: UserWarning: Update your `Dense` call to the Keras 2 API: `Dense(units=1, activation=\"sigmoid\", kernel_initializer=\"random_uniform\")`\n",
      "  \"\"\"Entry point for launching an IPython kernel.\n"
     ]
    }
   ],
   "source": [
    "model.add(Dense(units =1,init = \"random_uniform\",activation = \"sigmoid\"))"
   ]
  },
  {
   "cell_type": "code",
   "execution_count": 14,
   "metadata": {},
   "outputs": [
    {
     "name": "stdout",
     "output_type": "stream",
     "text": [
      "WARNING:tensorflow:From C:\\Users\\hp\\anaconda3\\lib\\site-packages\\keras\\optimizers.py:790: The name tf.train.Optimizer is deprecated. Please use tf.compat.v1.train.Optimizer instead.\n",
      "\n",
      "WARNING:tensorflow:From C:\\Users\\hp\\anaconda3\\lib\\site-packages\\keras\\backend\\tensorflow_backend.py:3376: The name tf.log is deprecated. Please use tf.math.log instead.\n",
      "\n",
      "WARNING:tensorflow:From C:\\Users\\hp\\anaconda3\\lib\\site-packages\\tensorflow\\python\\ops\\nn_impl.py:180: add_dispatch_support.<locals>.wrapper (from tensorflow.python.ops.array_ops) is deprecated and will be removed in a future version.\n",
      "Instructions for updating:\n",
      "Use tf.where in 2.0, which has the same broadcast rule as np.where\n"
     ]
    }
   ],
   "source": [
    "model.compile(loss = \"binary_crossentropy\",optimizer = \"adam\",metrics = [\"accuracy\"])"
   ]
  },
  {
   "cell_type": "code",
   "execution_count": 15,
   "metadata": {},
   "outputs": [
    {
     "name": "stdout",
     "output_type": "stream",
     "text": [
      "WARNING:tensorflow:From C:\\Users\\hp\\anaconda3\\lib\\site-packages\\keras\\backend\\tensorflow_backend.py:986: The name tf.assign_add is deprecated. Please use tf.compat.v1.assign_add instead.\n",
      "\n",
      "Epoch 1/100\n",
      "47/47 [==============================] - 36s 768ms/step - loss: 0.4974 - acc: 0.8464 - val_loss: 0.6516 - val_acc: 0.7330\n",
      "Epoch 2/100\n",
      "47/47 [==============================] - 21s 450ms/step - loss: 0.4013 - acc: 0.8657 - val_loss: 0.6268 - val_acc: 0.7315\n",
      "Epoch 3/100\n",
      "47/47 [==============================] - 12s 252ms/step - loss: 0.3609 - acc: 0.8544 - val_loss: 0.6063 - val_acc: 0.7330\n",
      "Epoch 4/100\n",
      "47/47 [==============================] - 12s 256ms/step - loss: 0.2849 - acc: 0.8652 - val_loss: 0.5914 - val_acc: 0.7315\n",
      "Epoch 5/100\n",
      "47/47 [==============================] - 12s 256ms/step - loss: 0.2363 - acc: 0.8883 - val_loss: 0.5742 - val_acc: 0.6683\n",
      "Epoch 6/100\n",
      "47/47 [==============================] - 12s 250ms/step - loss: 0.2122 - acc: 0.9166 - val_loss: 0.7303 - val_acc: 0.5856\n",
      "Epoch 7/100\n",
      "47/47 [==============================] - 12s 254ms/step - loss: 0.2076 - acc: 0.9242 - val_loss: 1.2508 - val_acc: 0.4579\n",
      "Epoch 8/100\n",
      "47/47 [==============================] - 12s 254ms/step - loss: 0.2149 - acc: 0.9030 - val_loss: 0.6331 - val_acc: 0.5889\n",
      "Epoch 9/100\n",
      "47/47 [==============================] - 12s 245ms/step - loss: 0.1619 - acc: 0.9388 - val_loss: 1.0488 - val_acc: 0.4676\n",
      "Epoch 10/100\n",
      "47/47 [==============================] - 11s 241ms/step - loss: 0.1612 - acc: 0.9356 - val_loss: 0.6185 - val_acc: 0.6628\n",
      "Epoch 11/100\n",
      "47/47 [==============================] - 12s 250ms/step - loss: 0.1791 - acc: 0.9262 - val_loss: 0.6115 - val_acc: 0.6278\n",
      "Epoch 12/100\n",
      "47/47 [==============================] - 12s 254ms/step - loss: 0.1519 - acc: 0.9348 - val_loss: 0.7402 - val_acc: 0.5805\n",
      "Epoch 13/100\n",
      "47/47 [==============================] - 12s 251ms/step - loss: 0.1661 - acc: 0.9229 - val_loss: 0.6113 - val_acc: 0.6728\n",
      "Epoch 14/100\n",
      "47/47 [==============================] - 12s 252ms/step - loss: 0.1405 - acc: 0.9432 - val_loss: 0.8240 - val_acc: 0.6311\n",
      "Epoch 15/100\n",
      "47/47 [==============================] - 12s 263ms/step - loss: 0.1317 - acc: 0.9481 - val_loss: 0.8957 - val_acc: 0.5671\n",
      "Epoch 16/100\n",
      "47/47 [==============================] - 12s 253ms/step - loss: 0.1343 - acc: 0.9465 - val_loss: 0.6090 - val_acc: 0.7314\n",
      "Epoch 17/100\n",
      "47/47 [==============================] - 12s 253ms/step - loss: 0.1572 - acc: 0.9408 - val_loss: 0.8297 - val_acc: 0.6560\n",
      "Epoch 18/100\n",
      "47/47 [==============================] - 12s 249ms/step - loss: 0.1375 - acc: 0.9522 - val_loss: 1.2609 - val_acc: 0.5566\n",
      "Epoch 19/100\n",
      "47/47 [==============================] - 12s 250ms/step - loss: 0.1327 - acc: 0.9468 - val_loss: 1.0191 - val_acc: 0.5554\n",
      "Epoch 20/100\n",
      "47/47 [==============================] - 12s 263ms/step - loss: 0.1283 - acc: 0.9452 - val_loss: 0.7767 - val_acc: 0.6699\n",
      "Epoch 21/100\n",
      "47/47 [==============================] - 12s 259ms/step - loss: 0.1107 - acc: 0.9548 - val_loss: 0.6353 - val_acc: 0.6862\n",
      "Epoch 22/100\n",
      "47/47 [==============================] - 12s 251ms/step - loss: 0.1060 - acc: 0.9568 - val_loss: 0.7192 - val_acc: 0.6958\n",
      "Epoch 23/100\n",
      "47/47 [==============================] - 12s 251ms/step - loss: 0.1297 - acc: 0.9475 - val_loss: 0.6244 - val_acc: 0.7500\n",
      "Epoch 24/100\n",
      "47/47 [==============================] - 12s 245ms/step - loss: 0.1182 - acc: 0.9521 - val_loss: 0.9584 - val_acc: 0.6149\n",
      "Epoch 25/100\n",
      "47/47 [==============================] - 11s 242ms/step - loss: 0.1010 - acc: 0.9631 - val_loss: 1.2351 - val_acc: 0.5537\n",
      "Epoch 26/100\n",
      "47/47 [==============================] - 11s 244ms/step - loss: 0.1135 - acc: 0.9541 - val_loss: 0.5894 - val_acc: 0.7584\n",
      "Epoch 27/100\n",
      "47/47 [==============================] - 11s 244ms/step - loss: 0.1148 - acc: 0.9518 - val_loss: 0.5787 - val_acc: 0.7864\n",
      "Epoch 28/100\n",
      "47/47 [==============================] - 12s 249ms/step - loss: 0.1006 - acc: 0.9634 - val_loss: 0.8878 - val_acc: 0.7265\n",
      "Epoch 29/100\n",
      "47/47 [==============================] - 12s 246ms/step - loss: 0.0796 - acc: 0.9642 - val_loss: 1.1418 - val_acc: 0.6537\n",
      "Epoch 30/100\n",
      "47/47 [==============================] - 12s 248ms/step - loss: 0.0985 - acc: 0.9634 - val_loss: 0.9324 - val_acc: 0.6711\n",
      "Epoch 31/100\n",
      "47/47 [==============================] - 12s 249ms/step - loss: 0.1131 - acc: 0.9571 - val_loss: 0.8175 - val_acc: 0.7460\n",
      "Epoch 32/100\n",
      "47/47 [==============================] - 12s 259ms/step - loss: 0.0961 - acc: 0.9661 - val_loss: 0.8896 - val_acc: 0.7030\n",
      "Epoch 33/100\n",
      "47/47 [==============================] - 12s 253ms/step - loss: 0.1198 - acc: 0.9532 - val_loss: 0.4959 - val_acc: 0.7832\n",
      "Epoch 34/100\n",
      "47/47 [==============================] - 12s 247ms/step - loss: 0.0824 - acc: 0.9674 - val_loss: 1.4134 - val_acc: 0.5755\n",
      "Epoch 35/100\n",
      "47/47 [==============================] - 12s 251ms/step - loss: 0.0797 - acc: 0.9634 - val_loss: 0.6705 - val_acc: 0.7945\n",
      "Epoch 36/100\n",
      "47/47 [==============================] - 12s 246ms/step - loss: 0.0808 - acc: 0.9694 - val_loss: 0.9026 - val_acc: 0.7466\n",
      "Epoch 37/100\n",
      "47/47 [==============================] - 12s 249ms/step - loss: 0.0919 - acc: 0.9651 - val_loss: 0.5708 - val_acc: 0.7735\n",
      "Epoch 38/100\n",
      "47/47 [==============================] - 11s 245ms/step - loss: 0.0878 - acc: 0.9668 - val_loss: 1.0371 - val_acc: 0.7064\n",
      "Epoch 39/100\n",
      "47/47 [==============================] - 12s 247ms/step - loss: 0.0795 - acc: 0.9684 - val_loss: 1.1923 - val_acc: 0.6728\n",
      "Epoch 40/100\n",
      "47/47 [==============================] - 12s 249ms/step - loss: 0.0768 - acc: 0.9721 - val_loss: 0.8090 - val_acc: 0.7670\n",
      "Epoch 41/100\n",
      "47/47 [==============================] - 12s 246ms/step - loss: 0.0705 - acc: 0.9721 - val_loss: 1.1956 - val_acc: 0.7232\n",
      "Epoch 42/100\n",
      "47/47 [==============================] - 12s 247ms/step - loss: 0.0666 - acc: 0.9714 - val_loss: 0.6775 - val_acc: 0.7913\n",
      "Epoch 43/100\n",
      "47/47 [==============================] - 12s 247ms/step - loss: 0.0733 - acc: 0.9738 - val_loss: 1.0029 - val_acc: 0.7399\n",
      "Epoch 44/100\n",
      "47/47 [==============================] - 12s 248ms/step - loss: 0.0712 - acc: 0.9721 - val_loss: 0.7910 - val_acc: 0.8204\n",
      "Epoch 45/100\n",
      "47/47 [==============================] - 12s 246ms/step - loss: 0.0568 - acc: 0.9807 - val_loss: 0.8615 - val_acc: 0.8037\n",
      "Epoch 46/100\n",
      "47/47 [==============================] - 12s 248ms/step - loss: 0.0802 - acc: 0.9707 - val_loss: 0.6249 - val_acc: 0.8252\n",
      "Epoch 47/100\n",
      "47/47 [==============================] - 12s 248ms/step - loss: 0.0875 - acc: 0.9621 - val_loss: 0.6947 - val_acc: 0.7651\n",
      "Epoch 48/100\n",
      "47/47 [==============================] - 12s 250ms/step - loss: 0.0601 - acc: 0.9804 - val_loss: 0.9200 - val_acc: 0.7508\n",
      "Epoch 49/100\n",
      "47/47 [==============================] - 12s 246ms/step - loss: 0.0445 - acc: 0.9827 - val_loss: 0.7064 - val_acc: 0.8070\n",
      "Epoch 50/100\n",
      "47/47 [==============================] - 12s 252ms/step - loss: 0.0651 - acc: 0.9771 - val_loss: 0.8031 - val_acc: 0.8091\n",
      "Epoch 51/100\n",
      "47/47 [==============================] - 12s 246ms/step - loss: 0.0544 - acc: 0.9794 - val_loss: 1.2009 - val_acc: 0.7282\n",
      "Epoch 52/100\n",
      "47/47 [==============================] - 12s 245ms/step - loss: 0.0374 - acc: 0.9874 - val_loss: 1.3274 - val_acc: 0.7869\n",
      "Epoch 53/100\n",
      "47/47 [==============================] - 12s 249ms/step - loss: 0.0700 - acc: 0.9741 - val_loss: 1.3689 - val_acc: 0.6893\n",
      "Epoch 54/100\n",
      "47/47 [==============================] - 12s 245ms/step - loss: 0.0473 - acc: 0.9834 - val_loss: 1.1279 - val_acc: 0.7701\n",
      "Epoch 55/100\n",
      "47/47 [==============================] - 12s 249ms/step - loss: 0.0611 - acc: 0.9767 - val_loss: 0.7405 - val_acc: 0.8350\n",
      "Epoch 56/100\n",
      "47/47 [==============================] - 12s 245ms/step - loss: 0.0511 - acc: 0.9774 - val_loss: 0.5730 - val_acc: 0.8624\n",
      "Epoch 57/100\n",
      "47/47 [==============================] - 12s 248ms/step - loss: 0.0630 - acc: 0.9807 - val_loss: 0.9244 - val_acc: 0.7945\n",
      "Epoch 58/100\n",
      "47/47 [==============================] - 12s 247ms/step - loss: 0.0513 - acc: 0.9774 - val_loss: 1.3341 - val_acc: 0.7299\n",
      "Epoch 59/100\n",
      "47/47 [==============================] - 12s 252ms/step - loss: 0.0305 - acc: 0.9854 - val_loss: 0.9626 - val_acc: 0.8139\n",
      "Epoch 60/100\n",
      "47/47 [==============================] - 11s 242ms/step - loss: 0.0684 - acc: 0.9754 - val_loss: 0.6547 - val_acc: 0.8205\n",
      "Epoch 61/100\n",
      "47/47 [==============================] - 11s 244ms/step - loss: 0.0462 - acc: 0.9801 - val_loss: 0.6439 - val_acc: 0.8528\n",
      "Epoch 62/100\n",
      "47/47 [==============================] - 11s 242ms/step - loss: 0.0414 - acc: 0.9860 - val_loss: 1.0519 - val_acc: 0.8037\n",
      "Epoch 63/100\n",
      "47/47 [==============================] - 12s 245ms/step - loss: 0.0447 - acc: 0.9854 - val_loss: 0.3908 - val_acc: 0.8900\n",
      "Epoch 64/100\n",
      "47/47 [==============================] - 11s 240ms/step - loss: 0.0572 - acc: 0.9764 - val_loss: 1.2107 - val_acc: 0.8121\n",
      "Epoch 65/100\n",
      "47/47 [==============================] - 12s 245ms/step - loss: 0.0578 - acc: 0.9814 - val_loss: 0.6251 - val_acc: 0.8406\n",
      "Epoch 66/100\n",
      "47/47 [==============================] - 11s 243ms/step - loss: 0.0371 - acc: 0.9854 - val_loss: 1.3850 - val_acc: 0.7524\n",
      "Epoch 67/100\n",
      "47/47 [==============================] - 11s 243ms/step - loss: 0.0475 - acc: 0.9820 - val_loss: 0.9020 - val_acc: 0.8171\n",
      "Epoch 68/100\n",
      "47/47 [==============================] - 11s 242ms/step - loss: 0.0582 - acc: 0.9754 - val_loss: 0.8335 - val_acc: 0.7896\n",
      "Epoch 69/100\n",
      "47/47 [==============================] - 11s 244ms/step - loss: 0.0408 - acc: 0.9860 - val_loss: 0.7914 - val_acc: 0.8339\n",
      "Epoch 70/100\n",
      "47/47 [==============================] - 12s 249ms/step - loss: 0.0384 - acc: 0.9874 - val_loss: 1.1848 - val_acc: 0.7848\n",
      "Epoch 71/100\n",
      "47/47 [==============================] - 11s 241ms/step - loss: 0.0408 - acc: 0.9847 - val_loss: 1.0832 - val_acc: 0.8255\n",
      "Epoch 72/100\n",
      "47/47 [==============================] - 12s 246ms/step - loss: 0.0492 - acc: 0.9807 - val_loss: 0.6541 - val_acc: 0.8511\n",
      "Epoch 73/100\n",
      "47/47 [==============================] - 11s 241ms/step - loss: 0.0399 - acc: 0.9857 - val_loss: 1.1134 - val_acc: 0.7718\n",
      "Epoch 74/100\n",
      "47/47 [==============================] - 12s 245ms/step - loss: 0.0239 - acc: 0.9914 - val_loss: 1.1344 - val_acc: 0.7880\n",
      "Epoch 75/100\n",
      "47/47 [==============================] - 11s 240ms/step - loss: 0.0368 - acc: 0.9871 - val_loss: 1.1606 - val_acc: 0.7785\n",
      "Epoch 76/100\n",
      "47/47 [==============================] - 11s 242ms/step - loss: 0.0372 - acc: 0.9854 - val_loss: 1.2583 - val_acc: 0.7848\n",
      "Epoch 77/100\n",
      "47/47 [==============================] - 11s 240ms/step - loss: 0.0244 - acc: 0.9887 - val_loss: 0.8750 - val_acc: 0.8138\n",
      "Epoch 78/100\n",
      "47/47 [==============================] - 12s 246ms/step - loss: 0.0258 - acc: 0.9900 - val_loss: 0.9135 - val_acc: 0.8356\n",
      "Epoch 79/100\n",
      "47/47 [==============================] - 11s 244ms/step - loss: 0.0245 - acc: 0.9900 - val_loss: 1.2412 - val_acc: 0.7929\n",
      "Epoch 80/100\n",
      "47/47 [==============================] - 12s 246ms/step - loss: 0.0188 - acc: 0.9934 - val_loss: 1.3745 - val_acc: 0.7987\n",
      "Epoch 81/100\n",
      "47/47 [==============================] - 12s 246ms/step - loss: 0.0482 - acc: 0.9837 - val_loss: 0.9554 - val_acc: 0.8155\n",
      "Epoch 82/100\n",
      "47/47 [==============================] - 12s 254ms/step - loss: 0.0206 - acc: 0.9907 - val_loss: 1.1567 - val_acc: 0.8238\n",
      "Epoch 83/100\n",
      "47/47 [==============================] - 13s 272ms/step - loss: 0.0218 - acc: 0.9920 - val_loss: 1.8491 - val_acc: 0.7686\n",
      "Epoch 84/100\n",
      "47/47 [==============================] - 12s 255ms/step - loss: 0.0329 - acc: 0.9867 - val_loss: 0.9865 - val_acc: 0.8272\n",
      "Epoch 85/100\n",
      "47/47 [==============================] - 11s 236ms/step - loss: 0.0372 - acc: 0.9848 - val_loss: 1.1534 - val_acc: 0.7832\n",
      "Epoch 86/100\n",
      "47/47 [==============================] - 11s 232ms/step - loss: 0.0199 - acc: 0.9953 - val_loss: 1.3296 - val_acc: 0.8138\n",
      "Epoch 87/100\n",
      "47/47 [==============================] - 11s 236ms/step - loss: 0.0278 - acc: 0.9914 - val_loss: 1.2846 - val_acc: 0.8155\n",
      "Epoch 88/100\n",
      "47/47 [==============================] - 11s 232ms/step - loss: 0.0199 - acc: 0.9934 - val_loss: 1.4703 - val_acc: 0.7836\n",
      "Epoch 89/100\n",
      "47/47 [==============================] - 11s 229ms/step - loss: 0.0187 - acc: 0.9940 - val_loss: 1.2656 - val_acc: 0.8398\n",
      "Epoch 90/100\n",
      "47/47 [==============================] - 11s 233ms/step - loss: 0.0283 - acc: 0.9878 - val_loss: 1.6840 - val_acc: 0.7919\n",
      "Epoch 91/100\n",
      "47/47 [==============================] - 11s 235ms/step - loss: 0.0317 - acc: 0.9867 - val_loss: 1.2625 - val_acc: 0.8121\n",
      "Epoch 92/100\n",
      "47/47 [==============================] - 11s 233ms/step - loss: 0.0172 - acc: 0.9947 - val_loss: 1.6623 - val_acc: 0.7767\n",
      "Epoch 93/100\n",
      "47/47 [==============================] - 11s 234ms/step - loss: 0.0134 - acc: 0.9947 - val_loss: 1.3727 - val_acc: 0.8272\n",
      "Epoch 94/100\n",
      "47/47 [==============================] - 11s 235ms/step - loss: 0.0192 - acc: 0.9920 - val_loss: 1.1119 - val_acc: 0.8576\n",
      "Epoch 95/100\n",
      "47/47 [==============================] - 11s 232ms/step - loss: 0.0219 - acc: 0.9887 - val_loss: 1.5653 - val_acc: 0.7886\n",
      "Epoch 96/100\n",
      "47/47 [==============================] - 11s 234ms/step - loss: 0.0332 - acc: 0.9880 - val_loss: 1.0240 - val_acc: 0.7767\n",
      "Epoch 97/100\n",
      "47/47 [==============================] - 11s 234ms/step - loss: 0.0186 - acc: 0.9934 - val_loss: 1.1580 - val_acc: 0.8138\n",
      "Epoch 98/100\n",
      "47/47 [==============================] - 11s 233ms/step - loss: 0.0287 - acc: 0.9924 - val_loss: 1.0654 - val_acc: 0.8333\n",
      "Epoch 99/100\n",
      "47/47 [==============================] - 11s 236ms/step - loss: 0.0152 - acc: 0.9940 - val_loss: 1.5449 - val_acc: 0.8188\n",
      "Epoch 100/100\n",
      "47/47 [==============================] - 11s 233ms/step - loss: 0.0169 - acc: 0.9960 - val_loss: 1.0251 - val_acc: 0.8625\n"
     ]
    },
    {
     "data": {
      "text/plain": [
       "<keras.callbacks.History at 0x24250c8e708>"
      ]
     },
     "execution_count": 15,
     "metadata": {},
     "output_type": "execute_result"
    }
   ],
   "source": [
    "model.fit_generator(\n",
    "    x_train,\n",
    "    steps_per_epoch = 47,\n",
    "    epochs = 100,\n",
    "    validation_data= x_test,\n",
    "    validation_steps = 20)"
   ]
  },
  {
   "cell_type": "code",
   "execution_count": 16,
   "metadata": {},
   "outputs": [],
   "source": [
    "model.save(\"tumor_d.h5\")"
   ]
  },
  {
   "cell_type": "code",
   "execution_count": 17,
   "metadata": {},
   "outputs": [],
   "source": [
    "from keras.models import load_model\n",
    "from keras.preprocessing import image\n",
    "import numpy as np"
   ]
  },
  {
   "cell_type": "code",
   "execution_count": 18,
   "metadata": {},
   "outputs": [],
   "source": [
    "model = load_model(\"tumor_d.h5\")"
   ]
  },
  {
   "cell_type": "code",
   "execution_count": 70,
   "metadata": {},
   "outputs": [],
   "source": [
    "img = image.load_img(r\"D:\\RISP2020\\data\\Testing\\yes\\image(50).jpg\",target_size= (64,64))"
   ]
  },
  {
   "cell_type": "code",
   "execution_count": 71,
   "metadata": {},
   "outputs": [],
   "source": [
    "x = image.img_to_array(img)\n",
    "x = np.expand_dims(x,axis = 0)\n"
   ]
  },
  {
   "cell_type": "code",
   "execution_count": 72,
   "metadata": {},
   "outputs": [],
   "source": [
    "pred = model.predict_classes(x)"
   ]
  },
  {
   "cell_type": "code",
   "execution_count": 73,
   "metadata": {},
   "outputs": [
    {
     "data": {
      "text/plain": [
       "array([[1]])"
      ]
     },
     "execution_count": 73,
     "metadata": {},
     "output_type": "execute_result"
    }
   ],
   "source": [
    "pred\n"
   ]
  },
  {
   "cell_type": "code",
   "execution_count": null,
   "metadata": {},
   "outputs": [],
   "source": []
  }
 ],
 "metadata": {
  "kernelspec": {
   "display_name": "Python 3",
   "language": "python",
   "name": "python3"
  },
  "language_info": {
   "codemirror_mode": {
    "name": "ipython",
    "version": 3
   },
   "file_extension": ".py",
   "mimetype": "text/x-python",
   "name": "python",
   "nbconvert_exporter": "python",
   "pygments_lexer": "ipython3",
   "version": "3.7.6"
  }
 },
 "nbformat": 4,
 "nbformat_minor": 4
}
