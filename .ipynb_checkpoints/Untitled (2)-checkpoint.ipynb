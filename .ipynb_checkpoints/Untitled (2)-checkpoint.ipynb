{
 "cells": [
  {
   "cell_type": "code",
   "execution_count": 1,
   "metadata": {},
   "outputs": [
    {
     "name": "stderr",
     "output_type": "stream",
     "text": [
      "Using TensorFlow backend.\n",
      "C:\\Users\\nsfw1\\anaconda3\\lib\\site-packages\\tensorflow\\python\\framework\\dtypes.py:516: FutureWarning: Passing (type, 1) or '1type' as a synonym of type is deprecated; in a future version of numpy, it will be understood as (type, (1,)) / '(1,)type'.\n",
      "  _np_qint8 = np.dtype([(\"qint8\", np.int8, 1)])\n",
      "C:\\Users\\nsfw1\\anaconda3\\lib\\site-packages\\tensorflow\\python\\framework\\dtypes.py:517: FutureWarning: Passing (type, 1) or '1type' as a synonym of type is deprecated; in a future version of numpy, it will be understood as (type, (1,)) / '(1,)type'.\n",
      "  _np_quint8 = np.dtype([(\"quint8\", np.uint8, 1)])\n",
      "C:\\Users\\nsfw1\\anaconda3\\lib\\site-packages\\tensorflow\\python\\framework\\dtypes.py:518: FutureWarning: Passing (type, 1) or '1type' as a synonym of type is deprecated; in a future version of numpy, it will be understood as (type, (1,)) / '(1,)type'.\n",
      "  _np_qint16 = np.dtype([(\"qint16\", np.int16, 1)])\n",
      "C:\\Users\\nsfw1\\anaconda3\\lib\\site-packages\\tensorflow\\python\\framework\\dtypes.py:519: FutureWarning: Passing (type, 1) or '1type' as a synonym of type is deprecated; in a future version of numpy, it will be understood as (type, (1,)) / '(1,)type'.\n",
      "  _np_quint16 = np.dtype([(\"quint16\", np.uint16, 1)])\n",
      "C:\\Users\\nsfw1\\anaconda3\\lib\\site-packages\\tensorflow\\python\\framework\\dtypes.py:520: FutureWarning: Passing (type, 1) or '1type' as a synonym of type is deprecated; in a future version of numpy, it will be understood as (type, (1,)) / '(1,)type'.\n",
      "  _np_qint32 = np.dtype([(\"qint32\", np.int32, 1)])\n",
      "C:\\Users\\nsfw1\\anaconda3\\lib\\site-packages\\tensorflow\\python\\framework\\dtypes.py:525: FutureWarning: Passing (type, 1) or '1type' as a synonym of type is deprecated; in a future version of numpy, it will be understood as (type, (1,)) / '(1,)type'.\n",
      "  np_resource = np.dtype([(\"resource\", np.ubyte, 1)])\n",
      "C:\\Users\\nsfw1\\anaconda3\\lib\\site-packages\\tensorboard\\compat\\tensorflow_stub\\dtypes.py:541: FutureWarning: Passing (type, 1) or '1type' as a synonym of type is deprecated; in a future version of numpy, it will be understood as (type, (1,)) / '(1,)type'.\n",
      "  _np_qint8 = np.dtype([(\"qint8\", np.int8, 1)])\n",
      "C:\\Users\\nsfw1\\anaconda3\\lib\\site-packages\\tensorboard\\compat\\tensorflow_stub\\dtypes.py:542: FutureWarning: Passing (type, 1) or '1type' as a synonym of type is deprecated; in a future version of numpy, it will be understood as (type, (1,)) / '(1,)type'.\n",
      "  _np_quint8 = np.dtype([(\"quint8\", np.uint8, 1)])\n",
      "C:\\Users\\nsfw1\\anaconda3\\lib\\site-packages\\tensorboard\\compat\\tensorflow_stub\\dtypes.py:543: FutureWarning: Passing (type, 1) or '1type' as a synonym of type is deprecated; in a future version of numpy, it will be understood as (type, (1,)) / '(1,)type'.\n",
      "  _np_qint16 = np.dtype([(\"qint16\", np.int16, 1)])\n",
      "C:\\Users\\nsfw1\\anaconda3\\lib\\site-packages\\tensorboard\\compat\\tensorflow_stub\\dtypes.py:544: FutureWarning: Passing (type, 1) or '1type' as a synonym of type is deprecated; in a future version of numpy, it will be understood as (type, (1,)) / '(1,)type'.\n",
      "  _np_quint16 = np.dtype([(\"quint16\", np.uint16, 1)])\n",
      "C:\\Users\\nsfw1\\anaconda3\\lib\\site-packages\\tensorboard\\compat\\tensorflow_stub\\dtypes.py:545: FutureWarning: Passing (type, 1) or '1type' as a synonym of type is deprecated; in a future version of numpy, it will be understood as (type, (1,)) / '(1,)type'.\n",
      "  _np_qint32 = np.dtype([(\"qint32\", np.int32, 1)])\n",
      "C:\\Users\\nsfw1\\anaconda3\\lib\\site-packages\\tensorboard\\compat\\tensorflow_stub\\dtypes.py:550: FutureWarning: Passing (type, 1) or '1type' as a synonym of type is deprecated; in a future version of numpy, it will be understood as (type, (1,)) / '(1,)type'.\n",
      "  np_resource = np.dtype([(\"resource\", np.ubyte, 1)])\n"
     ]
    }
   ],
   "source": [
    "from keras.models import Sequential\n",
    "from keras.layers import Dense\n",
    "from keras.layers import Convolution2D\n",
    "from keras.layers import MaxPooling2D\n",
    "from keras.layers import Flatten"
   ]
  },
  {
   "cell_type": "code",
   "execution_count": 2,
   "metadata": {},
   "outputs": [],
   "source": [
    "from keras.preprocessing.image import ImageDataGenerator\n",
    "train_datagen = ImageDataGenerator(rescale = 1./255,shear_range = 0.2,zoom_range =\n",
    "0.2,horizontal_flip = True)\n",
    "test_datagen = ImageDataGenerator(rescale = 1./255)"
   ]
  },
  {
   "cell_type": "code",
   "execution_count": 3,
   "metadata": {},
   "outputs": [
    {
     "name": "stdout",
     "output_type": "stream",
     "text": [
      "Found 2870 images belonging to 2 classes.\n",
      "Found 394 images belonging to 2 classes.\n"
     ]
    }
   ],
   "source": [
    "x_train = train_datagen.flow_from_directory(\n",
    "    r'.\\data\\Training',\n",
    "    target_size = (64,64),\n",
    "    batch_size = 32 ,\n",
    "    class_mode = 'binary')\n",
    "x_test = test_datagen.flow_from_directory(\n",
    "    r'.\\data\\Testing',\n",
    "    target_size = (64,64),\n",
    "    batch_size = 32 ,\n",
    "    class_mode = 'binary')"
   ]
  },
  {
   "cell_type": "code",
   "execution_count": 4,
   "metadata": {},
   "outputs": [
    {
     "name": "stdout",
     "output_type": "stream",
     "text": [
      "{'no_tumor': 0, 'yes': 1}\n"
     ]
    }
   ],
   "source": [
    "print(x_train.class_indices)"
   ]
  },
  {
   "cell_type": "code",
   "execution_count": 5,
   "metadata": {},
   "outputs": [
    {
     "name": "stdout",
     "output_type": "stream",
     "text": [
      "WARNING:tensorflow:From C:\\Users\\nsfw1\\anaconda3\\lib\\site-packages\\keras\\backend\\tensorflow_backend.py:74: The name tf.get_default_graph is deprecated. Please use tf.compat.v1.get_default_graph instead.\n",
      "\n"
     ]
    }
   ],
   "source": [
    "model = Sequential()"
   ]
  },
  {
   "cell_type": "code",
   "execution_count": 6,
   "metadata": {},
   "outputs": [
    {
     "name": "stdout",
     "output_type": "stream",
     "text": [
      "WARNING:tensorflow:From C:\\Users\\nsfw1\\anaconda3\\lib\\site-packages\\keras\\backend\\tensorflow_backend.py:517: The name tf.placeholder is deprecated. Please use tf.compat.v1.placeholder instead.\n",
      "\n",
      "WARNING:tensorflow:From C:\\Users\\nsfw1\\anaconda3\\lib\\site-packages\\keras\\backend\\tensorflow_backend.py:4138: The name tf.random_uniform is deprecated. Please use tf.random.uniform instead.\n",
      "\n"
     ]
    }
   ],
   "source": [
    "model.add(Convolution2D(32,(3,3), input_shape = (64,64,3),activation = \"relu\"))"
   ]
  },
  {
   "cell_type": "code",
   "execution_count": 7,
   "metadata": {},
   "outputs": [
    {
     "name": "stdout",
     "output_type": "stream",
     "text": [
      "WARNING:tensorflow:From C:\\Users\\nsfw1\\anaconda3\\lib\\site-packages\\keras\\backend\\tensorflow_backend.py:3976: The name tf.nn.max_pool is deprecated. Please use tf.nn.max_pool2d instead.\n",
      "\n"
     ]
    }
   ],
   "source": [
    "model.add(MaxPooling2D(pool_size = (2,2)))"
   ]
  },
  {
   "cell_type": "code",
   "execution_count": 8,
   "metadata": {},
   "outputs": [],
   "source": [
    "model.add(Flatten()) # input layer of ann"
   ]
  },
  {
   "cell_type": "code",
   "execution_count": 9,
   "metadata": {},
   "outputs": [
    {
     "name": "stderr",
     "output_type": "stream",
     "text": [
      "C:\\Users\\nsfw1\\anaconda3\\lib\\site-packages\\ipykernel_launcher.py:1: UserWarning: Update your `Dense` call to the Keras 2 API: `Dense(units=225, activation=\"relu\", kernel_initializer=\"random_uniform\")`\n",
      "  \"\"\"Entry point for launching an IPython kernel.\n"
     ]
    }
   ],
   "source": [
    "model.add(Dense(units = 225,init = \"random_uniform\",activation = \"relu\"))"
   ]
  },
  {
   "cell_type": "code",
   "execution_count": 10,
   "metadata": {},
   "outputs": [
    {
     "name": "stderr",
     "output_type": "stream",
     "text": [
      "C:\\Users\\nsfw1\\anaconda3\\lib\\site-packages\\ipykernel_launcher.py:1: UserWarning: Update your `Dense` call to the Keras 2 API: `Dense(units=128, activation=\"relu\", kernel_initializer=\"random_uniform\")`\n",
      "  \"\"\"Entry point for launching an IPython kernel.\n"
     ]
    }
   ],
   "source": [
    "model.add(Dense(units = 128,init = \"random_uniform\",activation = \"relu\"))"
   ]
  },
  {
   "cell_type": "code",
   "execution_count": 11,
   "metadata": {},
   "outputs": [
    {
     "name": "stderr",
     "output_type": "stream",
     "text": [
      "C:\\Users\\nsfw1\\anaconda3\\lib\\site-packages\\ipykernel_launcher.py:1: UserWarning: Update your `Dense` call to the Keras 2 API: `Dense(units=64, activation=\"relu\", kernel_initializer=\"random_uniform\")`\n",
      "  \"\"\"Entry point for launching an IPython kernel.\n"
     ]
    }
   ],
   "source": [
    "model.add(Dense(units = 64,init = \"random_uniform\",activation = \"relu\"))"
   ]
  },
  {
   "cell_type": "code",
   "execution_count": 12,
   "metadata": {},
   "outputs": [
    {
     "name": "stderr",
     "output_type": "stream",
     "text": [
      "C:\\Users\\nsfw1\\anaconda3\\lib\\site-packages\\ipykernel_launcher.py:1: UserWarning: Update your `Dense` call to the Keras 2 API: `Dense(units=1, activation=\"sigmoid\", kernel_initializer=\"random_uniform\")`\n",
      "  \"\"\"Entry point for launching an IPython kernel.\n"
     ]
    }
   ],
   "source": [
    "model.add(Dense(units =1,init = \"random_uniform\",activation = \"sigmoid\"))"
   ]
  },
  {
   "cell_type": "code",
   "execution_count": 13,
   "metadata": {},
   "outputs": [
    {
     "name": "stdout",
     "output_type": "stream",
     "text": [
      "WARNING:tensorflow:From C:\\Users\\nsfw1\\anaconda3\\lib\\site-packages\\keras\\optimizers.py:790: The name tf.train.Optimizer is deprecated. Please use tf.compat.v1.train.Optimizer instead.\n",
      "\n",
      "WARNING:tensorflow:From C:\\Users\\nsfw1\\anaconda3\\lib\\site-packages\\keras\\backend\\tensorflow_backend.py:3376: The name tf.log is deprecated. Please use tf.math.log instead.\n",
      "\n",
      "WARNING:tensorflow:From C:\\Users\\nsfw1\\anaconda3\\lib\\site-packages\\tensorflow\\python\\ops\\nn_impl.py:180: add_dispatch_support.<locals>.wrapper (from tensorflow.python.ops.array_ops) is deprecated and will be removed in a future version.\n",
      "Instructions for updating:\n",
      "Use tf.where in 2.0, which has the same broadcast rule as np.where\n"
     ]
    }
   ],
   "source": [
    "model.compile(loss = \"binary_crossentropy\",optimizer = \"adam\",metrics = [\"accuracy\"])"
   ]
  },
  {
   "cell_type": "code",
   "execution_count": 14,
   "metadata": {},
   "outputs": [
    {
     "name": "stdout",
     "output_type": "stream",
     "text": [
      "WARNING:tensorflow:From C:\\Users\\nsfw1\\anaconda3\\lib\\site-packages\\keras\\backend\\tensorflow_backend.py:986: The name tf.assign_add is deprecated. Please use tf.compat.v1.assign_add instead.\n",
      "\n",
      "Epoch 1/100\n",
      "47/47 [==============================] - 34s 728ms/step - loss: 0.4993 - acc: 0.8570 - val_loss: 0.6448 - val_acc: 0.7282\n",
      "Epoch 2/100\n",
      "47/47 [==============================] - 27s 567ms/step - loss: 0.4072 - acc: 0.8692 - val_loss: 0.6450 - val_acc: 0.7399\n",
      "Epoch 3/100\n",
      "47/47 [==============================] - 12s 255ms/step - loss: 0.3251 - acc: 0.8690 - val_loss: 0.5987 - val_acc: 0.6974\n",
      "Epoch 4/100\n",
      "47/47 [==============================] - 12s 248ms/step - loss: 0.2595 - acc: 0.8977 - val_loss: 0.5871 - val_acc: 0.6242\n",
      "Epoch 5/100\n",
      "47/47 [==============================] - 12s 253ms/step - loss: 0.2278 - acc: 0.9162 - val_loss: 0.5920 - val_acc: 0.6618\n",
      "Epoch 6/100\n",
      "47/47 [==============================] - 12s 251ms/step - loss: 0.2331 - acc: 0.9053 - val_loss: 0.5937 - val_acc: 0.6930\n",
      "Epoch 7/100\n",
      "47/47 [==============================] - 12s 254ms/step - loss: 0.1776 - acc: 0.9282 - val_loss: 1.1266 - val_acc: 0.4288\n",
      "Epoch 8/100\n",
      "47/47 [==============================] - 12s 249ms/step - loss: 0.1826 - acc: 0.9353 - val_loss: 0.7010 - val_acc: 0.5638\n",
      "Epoch 9/100\n",
      "47/47 [==============================] - 12s 258ms/step - loss: 0.1777 - acc: 0.9362 - val_loss: 0.6856 - val_acc: 0.6214\n",
      "Epoch 10/100\n",
      "47/47 [==============================] - 12s 251ms/step - loss: 0.1553 - acc: 0.9415 - val_loss: 0.9109 - val_acc: 0.5117\n",
      "Epoch 11/100\n",
      "47/47 [==============================] - 12s 252ms/step - loss: 0.1512 - acc: 0.9395 - val_loss: 0.9532 - val_acc: 0.5566\n",
      "Epoch 12/100\n",
      "47/47 [==============================] - 12s 249ms/step - loss: 0.1507 - acc: 0.9438 - val_loss: 1.1894 - val_acc: 0.4950\n",
      "Epoch 13/100\n",
      "47/47 [==============================] - 12s 254ms/step - loss: 0.1369 - acc: 0.9468 - val_loss: 0.6218 - val_acc: 0.6930\n",
      "Epoch 14/100\n",
      "47/47 [==============================] - 12s 251ms/step - loss: 0.1303 - acc: 0.9472 - val_loss: 0.6054 - val_acc: 0.7120\n",
      "Epoch 15/100\n",
      "47/47 [==============================] - 12s 252ms/step - loss: 0.1619 - acc: 0.9315 - val_loss: 0.5411 - val_acc: 0.7198\n",
      "Epoch 16/100\n",
      "47/47 [==============================] - 12s 256ms/step - loss: 0.1088 - acc: 0.9591 - val_loss: 1.1749 - val_acc: 0.5356\n",
      "Epoch 17/100\n",
      "47/47 [==============================] - 12s 250ms/step - loss: 0.1214 - acc: 0.9501 - val_loss: 0.5408 - val_acc: 0.7248\n",
      "Epoch 18/100\n",
      "47/47 [==============================] - 12s 251ms/step - loss: 0.1256 - acc: 0.9492 - val_loss: 0.7069 - val_acc: 0.6618\n",
      "Epoch 19/100\n",
      "47/47 [==============================] - 12s 252ms/step - loss: 0.1203 - acc: 0.9515 - val_loss: 0.6735 - val_acc: 0.6846\n",
      "Epoch 20/100\n",
      "47/47 [==============================] - 12s 256ms/step - loss: 0.1131 - acc: 0.9561 - val_loss: 0.8044 - val_acc: 0.6618\n",
      "Epoch 21/100\n",
      "47/47 [==============================] - 12s 249ms/step - loss: 0.1007 - acc: 0.9568 - val_loss: 0.5921 - val_acc: 0.7550\n",
      "Epoch 22/100\n",
      "47/47 [==============================] - 12s 252ms/step - loss: 0.0954 - acc: 0.9611 - val_loss: 0.7187 - val_acc: 0.6505\n",
      "Epoch 23/100\n",
      "47/47 [==============================] - 12s 249ms/step - loss: 0.1298 - acc: 0.9452 - val_loss: 0.4873 - val_acc: 0.7701\n",
      "Epoch 24/100\n",
      "47/47 [==============================] - 12s 254ms/step - loss: 0.1093 - acc: 0.9555 - val_loss: 0.7836 - val_acc: 0.6667\n",
      "Epoch 25/100\n",
      "47/47 [==============================] - 12s 247ms/step - loss: 0.0937 - acc: 0.9658 - val_loss: 0.5194 - val_acc: 0.7919\n",
      "Epoch 26/100\n",
      "47/47 [==============================] - 12s 248ms/step - loss: 0.1162 - acc: 0.9528 - val_loss: 0.8256 - val_acc: 0.6963\n",
      "Epoch 27/100\n",
      "47/47 [==============================] - 12s 248ms/step - loss: 0.0944 - acc: 0.9588 - val_loss: 0.9668 - val_acc: 0.6214\n",
      "Epoch 28/100\n",
      "47/47 [==============================] - 12s 249ms/step - loss: 0.0753 - acc: 0.9681 - val_loss: 0.7068 - val_acc: 0.7450\n",
      "Epoch 29/100\n",
      "47/47 [==============================] - 12s 246ms/step - loss: 0.1047 - acc: 0.9619 - val_loss: 0.9487 - val_acc: 0.6990\n",
      "Epoch 30/100\n",
      "47/47 [==============================] - 12s 251ms/step - loss: 0.0975 - acc: 0.9608 - val_loss: 0.5584 - val_acc: 0.7617\n",
      "Epoch 31/100\n",
      "47/47 [==============================] - 12s 248ms/step - loss: 0.1124 - acc: 0.9535 - val_loss: 0.4384 - val_acc: 0.8172\n",
      "Epoch 32/100\n",
      "47/47 [==============================] - 12s 251ms/step - loss: 0.0772 - acc: 0.9681 - val_loss: 0.7675 - val_acc: 0.7433\n",
      "Epoch 33/100\n",
      "47/47 [==============================] - 12s 248ms/step - loss: 0.0644 - acc: 0.9751 - val_loss: 0.8165 - val_acc: 0.7265\n",
      "Epoch 34/100\n",
      "47/47 [==============================] - 12s 250ms/step - loss: 0.0729 - acc: 0.9707 - val_loss: 1.2243 - val_acc: 0.6628\n",
      "Epoch 35/100\n",
      "47/47 [==============================] - 12s 247ms/step - loss: 0.0875 - acc: 0.9621 - val_loss: 0.7529 - val_acc: 0.7201\n",
      "Epoch 36/100\n",
      "47/47 [==============================] - 12s 253ms/step - loss: 0.0854 - acc: 0.9668 - val_loss: 0.3852 - val_acc: 0.8456\n",
      "Epoch 37/100\n",
      "47/47 [==============================] - 12s 249ms/step - loss: 0.0806 - acc: 0.9678 - val_loss: 0.7924 - val_acc: 0.7573\n",
      "Epoch 38/100\n",
      "47/47 [==============================] - 12s 249ms/step - loss: 0.0669 - acc: 0.9754 - val_loss: 0.8934 - val_acc: 0.7332\n",
      "Epoch 39/100\n",
      "47/47 [==============================] - 12s 247ms/step - loss: 0.0670 - acc: 0.9727 - val_loss: 1.1556 - val_acc: 0.6359\n",
      "Epoch 40/100\n",
      "47/47 [==============================] - 12s 252ms/step - loss: 0.0725 - acc: 0.9694 - val_loss: 1.1592 - val_acc: 0.7314\n",
      "Epoch 41/100\n",
      "47/47 [==============================] - 12s 253ms/step - loss: 0.0627 - acc: 0.9744 - val_loss: 1.0792 - val_acc: 0.6896\n",
      "Epoch 42/100\n",
      "47/47 [==============================] - 12s 249ms/step - loss: 0.0712 - acc: 0.9694 - val_loss: 0.5877 - val_acc: 0.8139\n",
      "Epoch 43/100\n",
      "47/47 [==============================] - 12s 254ms/step - loss: 0.0496 - acc: 0.9807 - val_loss: 0.9659 - val_acc: 0.7450\n",
      "Epoch 44/100\n",
      "47/47 [==============================] - 13s 272ms/step - loss: 0.0716 - acc: 0.9714 - val_loss: 0.8379 - val_acc: 0.7087\n",
      "Epoch 45/100\n",
      "47/47 [==============================] - 12s 254ms/step - loss: 0.0592 - acc: 0.9727 - val_loss: 1.0731 - val_acc: 0.7584\n",
      "Epoch 46/100\n",
      "47/47 [==============================] - 12s 253ms/step - loss: 0.0626 - acc: 0.9758 - val_loss: 1.1620 - val_acc: 0.7443\n",
      "Epoch 47/100\n",
      "47/47 [==============================] - 12s 257ms/step - loss: 0.0552 - acc: 0.9774 - val_loss: 1.3244 - val_acc: 0.6862\n",
      "Epoch 48/100\n",
      "47/47 [==============================] - 12s 255ms/step - loss: 0.0527 - acc: 0.9834 - val_loss: 0.7538 - val_acc: 0.8042\n",
      "Epoch 49/100\n",
      "47/47 [==============================] - 12s 253ms/step - loss: 0.0501 - acc: 0.9801 - val_loss: 0.9302 - val_acc: 0.7685\n",
      "Epoch 50/100\n",
      "47/47 [==============================] - 12s 254ms/step - loss: 0.0378 - acc: 0.9854 - val_loss: 0.9683 - val_acc: 0.7799\n",
      "Epoch 51/100\n",
      "47/47 [==============================] - 12s 250ms/step - loss: 0.0535 - acc: 0.9787 - val_loss: 1.0509 - val_acc: 0.7819\n",
      "Epoch 52/100\n",
      "47/47 [==============================] - 12s 250ms/step - loss: 0.0617 - acc: 0.9804 - val_loss: 0.8950 - val_acc: 0.7852\n",
      "Epoch 53/100\n",
      "47/47 [==============================] - 12s 255ms/step - loss: 0.0495 - acc: 0.9820 - val_loss: 1.3364 - val_acc: 0.7411\n",
      "Epoch 54/100\n",
      "47/47 [==============================] - 12s 259ms/step - loss: 0.0368 - acc: 0.9887 - val_loss: 0.7249 - val_acc: 0.8138\n",
      "Epoch 55/100\n",
      "47/47 [==============================] - 12s 259ms/step - loss: 0.0534 - acc: 0.9781 - val_loss: 0.5332 - val_acc: 0.8430\n",
      "Epoch 56/100\n",
      "47/47 [==============================] - 13s 277ms/step - loss: 0.0446 - acc: 0.9814 - val_loss: 1.6098 - val_acc: 0.7148\n",
      "Epoch 57/100\n",
      "47/47 [==============================] - 12s 254ms/step - loss: 0.0490 - acc: 0.9794 - val_loss: 1.2977 - val_acc: 0.7282\n",
      "Epoch 58/100\n",
      "47/47 [==============================] - 12s 250ms/step - loss: 0.0436 - acc: 0.9827 - val_loss: 0.8344 - val_acc: 0.8255\n",
      "Epoch 59/100\n",
      "47/47 [==============================] - 12s 255ms/step - loss: 0.0615 - acc: 0.9827 - val_loss: 0.6976 - val_acc: 0.8463\n",
      "Epoch 60/100\n",
      "47/47 [==============================] - 12s 249ms/step - loss: 0.0477 - acc: 0.9820 - val_loss: 2.6635 - val_acc: 0.6158\n",
      "Epoch 61/100\n",
      "47/47 [==============================] - 12s 261ms/step - loss: 0.0697 - acc: 0.9701 - val_loss: 0.6212 - val_acc: 0.8883\n",
      "Epoch 62/100\n",
      "47/47 [==============================] - 12s 256ms/step - loss: 0.0419 - acc: 0.9820 - val_loss: 1.4137 - val_acc: 0.7450\n",
      "Epoch 63/100\n",
      "47/47 [==============================] - 12s 254ms/step - loss: 0.0479 - acc: 0.9807 - val_loss: 0.9173 - val_acc: 0.7816\n",
      "Epoch 64/100\n",
      "47/47 [==============================] - 12s 256ms/step - loss: 0.0494 - acc: 0.9798 - val_loss: 1.3497 - val_acc: 0.7416\n",
      "Epoch 65/100\n",
      "47/47 [==============================] - 12s 252ms/step - loss: 0.0383 - acc: 0.9854 - val_loss: 1.0636 - val_acc: 0.8054\n",
      "Epoch 66/100\n",
      "47/47 [==============================] - 12s 253ms/step - loss: 0.0338 - acc: 0.9887 - val_loss: 0.9454 - val_acc: 0.8172\n",
      "Epoch 67/100\n",
      "47/47 [==============================] - 12s 260ms/step - loss: 0.0372 - acc: 0.9874 - val_loss: 1.0535 - val_acc: 0.8104\n",
      "Epoch 68/100\n",
      "47/47 [==============================] - 12s 253ms/step - loss: 0.0376 - acc: 0.9851 - val_loss: 0.7397 - val_acc: 0.8479\n",
      "Epoch 69/100\n",
      "47/47 [==============================] - 12s 253ms/step - loss: 0.0482 - acc: 0.9801 - val_loss: 0.8897 - val_acc: 0.8154\n",
      "Epoch 70/100\n",
      "47/47 [==============================] - 12s 253ms/step - loss: 0.0457 - acc: 0.9874 - val_loss: 0.8379 - val_acc: 0.8252\n",
      "Epoch 71/100\n",
      "47/47 [==============================] - 12s 254ms/step - loss: 0.0186 - acc: 0.9934 - val_loss: 1.3014 - val_acc: 0.7383\n",
      "Epoch 72/100\n",
      "47/47 [==============================] - 12s 262ms/step - loss: 0.0409 - acc: 0.9874 - val_loss: 0.9179 - val_acc: 0.8139\n",
      "Epoch 73/100\n",
      "47/47 [==============================] - 12s 251ms/step - loss: 0.0341 - acc: 0.9874 - val_loss: 1.5549 - val_acc: 0.7248\n",
      "Epoch 74/100\n",
      "47/47 [==============================] - 12s 255ms/step - loss: 0.0219 - acc: 0.9927 - val_loss: 1.3024 - val_acc: 0.8074\n",
      "Epoch 75/100\n",
      "47/47 [==============================] - 12s 251ms/step - loss: 0.0254 - acc: 0.9907 - val_loss: 1.3613 - val_acc: 0.8138\n",
      "Epoch 76/100\n",
      "47/47 [==============================] - 12s 256ms/step - loss: 0.0300 - acc: 0.9887 - val_loss: 1.2714 - val_acc: 0.8074\n",
      "Epoch 77/100\n",
      "47/47 [==============================] - 12s 254ms/step - loss: 0.0524 - acc: 0.9814 - val_loss: 1.4344 - val_acc: 0.7836\n",
      "Epoch 78/100\n",
      "47/47 [==============================] - 12s 251ms/step - loss: 0.0358 - acc: 0.9867 - val_loss: 1.4023 - val_acc: 0.7634\n",
      "Epoch 79/100\n",
      "47/47 [==============================] - 12s 254ms/step - loss: 0.0363 - acc: 0.9860 - val_loss: 1.1596 - val_acc: 0.8026\n",
      "Epoch 80/100\n",
      "47/47 [==============================] - 12s 254ms/step - loss: 0.0389 - acc: 0.9867 - val_loss: 1.3550 - val_acc: 0.7634\n",
      "Epoch 81/100\n",
      "47/47 [==============================] - 12s 256ms/step - loss: 0.0226 - acc: 0.9927 - val_loss: 1.2677 - val_acc: 0.8188\n",
      "Epoch 82/100\n",
      "47/47 [==============================] - 12s 257ms/step - loss: 0.0246 - acc: 0.9927 - val_loss: 1.5859 - val_acc: 0.7299\n",
      "Epoch 83/100\n",
      "47/47 [==============================] - 12s 259ms/step - loss: 0.0348 - acc: 0.9880 - val_loss: 1.6340 - val_acc: 0.7718\n",
      "Epoch 84/100\n",
      "47/47 [==============================] - 12s 255ms/step - loss: 0.0319 - acc: 0.9880 - val_loss: 1.2670 - val_acc: 0.8188\n",
      "Epoch 85/100\n",
      "47/47 [==============================] - 12s 255ms/step - loss: 0.0257 - acc: 0.9920 - val_loss: 1.3956 - val_acc: 0.7994\n",
      "Epoch 86/100\n",
      "47/47 [==============================] - 12s 250ms/step - loss: 0.0284 - acc: 0.9907 - val_loss: 1.7314 - val_acc: 0.7433\n",
      "Epoch 87/100\n",
      "47/47 [==============================] - 12s 250ms/step - loss: 0.0344 - acc: 0.9847 - val_loss: 1.2876 - val_acc: 0.7654\n",
      "Epoch 88/100\n",
      "47/47 [==============================] - 12s 261ms/step - loss: 0.0196 - acc: 0.9934 - val_loss: 1.9370 - val_acc: 0.7567\n",
      "Epoch 89/100\n",
      "47/47 [==============================] - 12s 257ms/step - loss: 0.0259 - acc: 0.9914 - val_loss: 1.4447 - val_acc: 0.7718\n",
      "Epoch 90/100\n",
      "47/47 [==============================] - 12s 251ms/step - loss: 0.0304 - acc: 0.9874 - val_loss: 1.2187 - val_acc: 0.7970\n",
      "Epoch 91/100\n",
      "47/47 [==============================] - 12s 255ms/step - loss: 0.0219 - acc: 0.9940 - val_loss: 1.0094 - val_acc: 0.8423\n",
      "Epoch 92/100\n",
      "47/47 [==============================] - 12s 256ms/step - loss: 0.0342 - acc: 0.9880 - val_loss: 1.2820 - val_acc: 0.8220\n",
      "Epoch 93/100\n",
      "47/47 [==============================] - 12s 255ms/step - loss: 0.0155 - acc: 0.9953 - val_loss: 0.8503 - val_acc: 0.8607\n",
      "Epoch 94/100\n",
      "47/47 [==============================] - 12s 251ms/step - loss: 0.0330 - acc: 0.9867 - val_loss: 1.1183 - val_acc: 0.8236\n",
      "Epoch 95/100\n",
      "47/47 [==============================] - 12s 259ms/step - loss: 0.0248 - acc: 0.9907 - val_loss: 1.6680 - val_acc: 0.7450\n",
      "Epoch 96/100\n",
      "47/47 [==============================] - 12s 260ms/step - loss: 0.0334 - acc: 0.9894 - val_loss: 2.1510 - val_acc: 0.7395\n",
      "Epoch 97/100\n",
      "47/47 [==============================] - 12s 265ms/step - loss: 0.0240 - acc: 0.9940 - val_loss: 1.2822 - val_acc: 0.7953\n",
      "Epoch 98/100\n",
      "47/47 [==============================] - 13s 268ms/step - loss: 0.0115 - acc: 0.9967 - val_loss: 1.4473 - val_acc: 0.7961\n",
      "Epoch 99/100\n",
      "47/47 [==============================] - 12s 260ms/step - loss: 0.0343 - acc: 0.9887 - val_loss: 0.9986 - val_acc: 0.8238\n",
      "Epoch 100/100\n",
      "47/47 [==============================] - 13s 279ms/step - loss: 0.0252 - acc: 0.9908 - val_loss: 1.0416 - val_acc: 0.8447\n"
     ]
    },
    {
     "data": {
      "text/plain": [
       "<keras.callbacks.History at 0x1642b40b688>"
      ]
     },
     "execution_count": 14,
     "metadata": {},
     "output_type": "execute_result"
    }
   ],
   "source": [
    "model.fit_generator(\n",
    "    x_train,\n",
    "    steps_per_epoch = 47,\n",
    "    epochs = 100,\n",
    "    validation_data= x_test,\n",
    "    validation_steps = 20)"
   ]
  },
  {
   "cell_type": "code",
   "execution_count": 16,
   "metadata": {},
   "outputs": [],
   "source": [
    "model.save(\"tumor_d.h5\")"
   ]
  },
  {
   "cell_type": "code",
   "execution_count": 17,
   "metadata": {},
   "outputs": [],
   "source": [
    "from keras.models import load_model\n",
    "from keras.preprocessing import image\n",
    "import numpy as np"
   ]
  },
  {
   "cell_type": "code",
   "execution_count": 18,
   "metadata": {},
   "outputs": [],
   "source": [
    "model = load_model(\"tumor_d.h5\")"
   ]
  },
  {
   "cell_type": "code",
   "execution_count": 109,
   "metadata": {},
   "outputs": [],
   "source": [
    "img = image.load_img(r\"D:\\images\\yes\",target_size= (64,64))"
   ]
  },
  {
   "cell_type": "code",
   "execution_count": 110,
   "metadata": {},
   "outputs": [],
   "source": [
    "x = image.img_to_array(img)\n",
    "x = np.expand_dims(x,axis = 0)"
   ]
  },
  {
   "cell_type": "code",
   "execution_count": 111,
   "metadata": {},
   "outputs": [],
   "source": [
    "pred = model.predict_classes(x)"
   ]
  },
  {
   "cell_type": "code",
   "execution_count": 112,
   "metadata": {},
   "outputs": [
    {
     "data": {
      "text/plain": [
       "array([[1]])"
      ]
     },
     "execution_count": 112,
     "metadata": {},
     "output_type": "execute_result"
    }
   ],
   "source": [
    "pred"
   ]
  },
  {
   "cell_type": "code",
   "execution_count": null,
   "metadata": {},
   "outputs": [],
   "source": []
  }
 ],
 "metadata": {
  "kernelspec": {
   "display_name": "Python 3",
   "language": "python",
   "name": "python3"
  },
  "language_info": {
   "codemirror_mode": {
    "name": "ipython",
    "version": 3
   },
   "file_extension": ".py",
   "mimetype": "text/x-python",
   "name": "python",
   "nbconvert_exporter": "python",
   "pygments_lexer": "ipython3",
   "version": "3.7.6"
  }
 },
 "nbformat": 4,
 "nbformat_minor": 4
}
